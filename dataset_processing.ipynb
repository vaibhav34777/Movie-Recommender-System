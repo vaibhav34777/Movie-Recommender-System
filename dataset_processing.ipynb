{
 "cells": [
  {
   "cell_type": "code",
   "execution_count": 23,
   "id": "1d770ffe-c745-45f2-8a79-184aeceb8b3f",
   "metadata": {},
   "outputs": [],
   "source": [
    "import numpy as np\n",
    "import numpy.ma as ma\n",
    "import pandas as pd\n",
    "import tensorflow as tf\n",
    "from tensorflow import keras\n",
    "from sklearn.preprocessing import StandardScaler, MinMaxScaler\n",
    "from tensorflow.keras.layers import Lambda\n",
    "from sklearn.model_selection import train_test_split\n",
    "pd.set_option(\"display.precision\", 1)\n",
    "import re"
   ]
  },
  {
   "cell_type": "code",
   "execution_count": 24,
   "id": "2fd6cfdd-190c-4745-8084-4c366617285e",
   "metadata": {},
   "outputs": [],
   "source": [
    "movies=pd.read_csv('movie-lens/ml-latest-small/movies.csv')\n",
    "ratings=pd.read_csv('movie-lens/ml-latest-small/ratings.csv')"
   ]
  },
  {
   "cell_type": "code",
   "execution_count": 25,
   "id": "a658458a-4e06-49a7-b134-53f0739c0028",
   "metadata": {},
   "outputs": [
    {
     "data": {
      "text/html": [
       "<div>\n",
       "<style scoped>\n",
       "    .dataframe tbody tr th:only-of-type {\n",
       "        vertical-align: middle;\n",
       "    }\n",
       "\n",
       "    .dataframe tbody tr th {\n",
       "        vertical-align: top;\n",
       "    }\n",
       "\n",
       "    .dataframe thead th {\n",
       "        text-align: right;\n",
       "    }\n",
       "</style>\n",
       "<table border=\"1\" class=\"dataframe\">\n",
       "  <thead>\n",
       "    <tr style=\"text-align: right;\">\n",
       "      <th></th>\n",
       "      <th>movieId</th>\n",
       "      <th>title</th>\n",
       "      <th>genres</th>\n",
       "    </tr>\n",
       "  </thead>\n",
       "  <tbody>\n",
       "    <tr>\n",
       "      <th>0</th>\n",
       "      <td>1</td>\n",
       "      <td>Toy Story (1995)</td>\n",
       "      <td>Adventure|Animation|Children|Comedy|Fantasy</td>\n",
       "    </tr>\n",
       "    <tr>\n",
       "      <th>1</th>\n",
       "      <td>2</td>\n",
       "      <td>Jumanji (1995)</td>\n",
       "      <td>Adventure|Children|Fantasy</td>\n",
       "    </tr>\n",
       "    <tr>\n",
       "      <th>2</th>\n",
       "      <td>3</td>\n",
       "      <td>Grumpier Old Men (1995)</td>\n",
       "      <td>Comedy|Romance</td>\n",
       "    </tr>\n",
       "    <tr>\n",
       "      <th>3</th>\n",
       "      <td>4</td>\n",
       "      <td>Waiting to Exhale (1995)</td>\n",
       "      <td>Comedy|Drama|Romance</td>\n",
       "    </tr>\n",
       "  </tbody>\n",
       "</table>\n",
       "</div>"
      ],
      "text/plain": [
       "   movieId                     title  \\\n",
       "0        1          Toy Story (1995)   \n",
       "1        2            Jumanji (1995)   \n",
       "2        3   Grumpier Old Men (1995)   \n",
       "3        4  Waiting to Exhale (1995)   \n",
       "\n",
       "                                        genres  \n",
       "0  Adventure|Animation|Children|Comedy|Fantasy  \n",
       "1                   Adventure|Children|Fantasy  \n",
       "2                               Comedy|Romance  \n",
       "3                         Comedy|Drama|Romance  "
      ]
     },
     "execution_count": 25,
     "metadata": {},
     "output_type": "execute_result"
    }
   ],
   "source": [
    "movies.head(4)"
   ]
  },
  {
   "cell_type": "code",
   "execution_count": 26,
   "id": "180e70f5-ac7f-40c5-8cfd-dd5cf628e6c0",
   "metadata": {},
   "outputs": [
    {
     "data": {
      "text/html": [
       "<div>\n",
       "<style scoped>\n",
       "    .dataframe tbody tr th:only-of-type {\n",
       "        vertical-align: middle;\n",
       "    }\n",
       "\n",
       "    .dataframe tbody tr th {\n",
       "        vertical-align: top;\n",
       "    }\n",
       "\n",
       "    .dataframe thead th {\n",
       "        text-align: right;\n",
       "    }\n",
       "</style>\n",
       "<table border=\"1\" class=\"dataframe\">\n",
       "  <thead>\n",
       "    <tr style=\"text-align: right;\">\n",
       "      <th></th>\n",
       "      <th>userId</th>\n",
       "      <th>movieId</th>\n",
       "      <th>rating</th>\n",
       "      <th>timestamp</th>\n",
       "    </tr>\n",
       "  </thead>\n",
       "  <tbody>\n",
       "    <tr>\n",
       "      <th>0</th>\n",
       "      <td>1</td>\n",
       "      <td>1</td>\n",
       "      <td>4.0</td>\n",
       "      <td>964982703</td>\n",
       "    </tr>\n",
       "    <tr>\n",
       "      <th>1</th>\n",
       "      <td>1</td>\n",
       "      <td>3</td>\n",
       "      <td>4.0</td>\n",
       "      <td>964981247</td>\n",
       "    </tr>\n",
       "    <tr>\n",
       "      <th>2</th>\n",
       "      <td>1</td>\n",
       "      <td>6</td>\n",
       "      <td>4.0</td>\n",
       "      <td>964982224</td>\n",
       "    </tr>\n",
       "    <tr>\n",
       "      <th>3</th>\n",
       "      <td>1</td>\n",
       "      <td>47</td>\n",
       "      <td>5.0</td>\n",
       "      <td>964983815</td>\n",
       "    </tr>\n",
       "  </tbody>\n",
       "</table>\n",
       "</div>"
      ],
      "text/plain": [
       "   userId  movieId  rating  timestamp\n",
       "0       1        1     4.0  964982703\n",
       "1       1        3     4.0  964981247\n",
       "2       1        6     4.0  964982224\n",
       "3       1       47     5.0  964983815"
      ]
     },
     "execution_count": 26,
     "metadata": {},
     "output_type": "execute_result"
    }
   ],
   "source": [
    "ratings.head(4)"
   ]
  },
  {
   "cell_type": "markdown",
   "id": "ceb5f437-b71d-4e5e-9ed4-9b6d1cd2bf6e",
   "metadata": {},
   "source": [
    "#### Preparing Movies Set"
   ]
  },
  {
   "cell_type": "code",
   "execution_count": 27,
   "id": "2be48269-cbb7-4df5-a90d-2285f0489067",
   "metadata": {},
   "outputs": [],
   "source": [
    "movies['year'] = movies['title'].str.extract(r'\\((\\d{4})\\)').astype(float)\n",
    "filt=movies['year'] > 2000\n",
    "movies = movies[filt]\n",
    "popular_genres=['Action','Adventure','Animation','Children','Comedy','Crime','Documentary','Drama','Fantasy','Horror','Mystery','Romance','Sci-Fi','Thriller']\n",
    "movies['genres'] = movies['genres'].str.split('|')\n",
    "movies = movies[movies['genres'].apply(lambda g: set(g).issubset(popular_genres))]\n",
    "genres = sorted(set(g for sublist in movies['genres'] for g in sublist))\n",
    "for genre in genres:\n",
    "    movies[genre] = movies['genres'].apply(lambda x: 1 if genre in x else 0)"
   ]
  },
  {
   "cell_type": "code",
   "execution_count": 28,
   "id": "1cac6673-3eb1-45e4-803c-5e58cd439843",
   "metadata": {},
   "outputs": [
    {
     "data": {
      "text/html": [
       "<div>\n",
       "<style scoped>\n",
       "    .dataframe tbody tr th:only-of-type {\n",
       "        vertical-align: middle;\n",
       "    }\n",
       "\n",
       "    .dataframe tbody tr th {\n",
       "        vertical-align: top;\n",
       "    }\n",
       "\n",
       "    .dataframe thead th {\n",
       "        text-align: right;\n",
       "    }\n",
       "</style>\n",
       "<table border=\"1\" class=\"dataframe\">\n",
       "  <thead>\n",
       "    <tr style=\"text-align: right;\">\n",
       "      <th></th>\n",
       "      <th>movieId</th>\n",
       "      <th>title</th>\n",
       "      <th>genres</th>\n",
       "      <th>year</th>\n",
       "      <th>Action</th>\n",
       "      <th>Adventure</th>\n",
       "      <th>Animation</th>\n",
       "      <th>Children</th>\n",
       "      <th>Comedy</th>\n",
       "      <th>Crime</th>\n",
       "      <th>Documentary</th>\n",
       "      <th>Drama</th>\n",
       "      <th>Fantasy</th>\n",
       "      <th>Horror</th>\n",
       "      <th>Mystery</th>\n",
       "      <th>Romance</th>\n",
       "      <th>Sci-Fi</th>\n",
       "      <th>Thriller</th>\n",
       "      <th>avg_rating</th>\n",
       "    </tr>\n",
       "  </thead>\n",
       "  <tbody>\n",
       "    <tr>\n",
       "      <th>0</th>\n",
       "      <td>4052</td>\n",
       "      <td>Antitrust (2001)</td>\n",
       "      <td>[Crime, Drama, Thriller]</td>\n",
       "      <td>2001.0</td>\n",
       "      <td>0</td>\n",
       "      <td>0</td>\n",
       "      <td>0</td>\n",
       "      <td>0</td>\n",
       "      <td>0</td>\n",
       "      <td>1</td>\n",
       "      <td>0</td>\n",
       "      <td>1</td>\n",
       "      <td>0</td>\n",
       "      <td>0</td>\n",
       "      <td>0</td>\n",
       "      <td>0</td>\n",
       "      <td>0</td>\n",
       "      <td>1</td>\n",
       "      <td>3.6</td>\n",
       "    </tr>\n",
       "    <tr>\n",
       "      <th>1</th>\n",
       "      <td>4053</td>\n",
       "      <td>Double Take (2001)</td>\n",
       "      <td>[Action, Comedy]</td>\n",
       "      <td>2001.0</td>\n",
       "      <td>1</td>\n",
       "      <td>0</td>\n",
       "      <td>0</td>\n",
       "      <td>0</td>\n",
       "      <td>1</td>\n",
       "      <td>0</td>\n",
       "      <td>0</td>\n",
       "      <td>0</td>\n",
       "      <td>0</td>\n",
       "      <td>0</td>\n",
       "      <td>0</td>\n",
       "      <td>0</td>\n",
       "      <td>0</td>\n",
       "      <td>0</td>\n",
       "      <td>2.5</td>\n",
       "    </tr>\n",
       "  </tbody>\n",
       "</table>\n",
       "</div>"
      ],
      "text/plain": [
       "   movieId               title                    genres    year  Action  \\\n",
       "0     4052    Antitrust (2001)  [Crime, Drama, Thriller]  2001.0       0   \n",
       "1     4053  Double Take (2001)          [Action, Comedy]  2001.0       1   \n",
       "\n",
       "   Adventure  Animation  Children  Comedy  Crime  Documentary  Drama  Fantasy  \\\n",
       "0          0          0         0       0      1            0      1        0   \n",
       "1          0          0         0       1      0            0      0        0   \n",
       "\n",
       "   Horror  Mystery  Romance  Sci-Fi  Thriller  avg_rating  \n",
       "0       0        0        0       0         1         3.6  \n",
       "1       0        0        0       0         0         2.5  "
      ]
     },
     "execution_count": 28,
     "metadata": {},
     "output_type": "execute_result"
    }
   ],
   "source": [
    "filtered_ratings = ratings[ratings['movieId'].isin(movies['movieId'])]\n",
    "movie_avg_ratings = filtered_ratings.groupby('movieId')['rating'].mean().reset_index()\n",
    "movies = movies.merge(movie_avg_ratings, on='movieId', how='left')\n",
    "movies.rename(columns={'rating':'avg_rating'},inplace=True)\n",
    "movies.head(2)"
   ]
  },
  {
   "cell_type": "markdown",
   "id": "d7708920-e574-4702-9411-872ca17a5693",
   "metadata": {},
   "source": [
    "#### Preparing User Set"
   ]
  },
  {
   "cell_type": "code",
   "execution_count": 29,
   "id": "dfa7b5a2-4d32-4253-a126-5485e70e6bee",
   "metadata": {},
   "outputs": [
    {
     "data": {
      "text/html": [
       "<div>\n",
       "<style scoped>\n",
       "    .dataframe tbody tr th:only-of-type {\n",
       "        vertical-align: middle;\n",
       "    }\n",
       "\n",
       "    .dataframe tbody tr th {\n",
       "        vertical-align: top;\n",
       "    }\n",
       "\n",
       "    .dataframe thead th {\n",
       "        text-align: right;\n",
       "    }\n",
       "</style>\n",
       "<table border=\"1\" class=\"dataframe\">\n",
       "  <thead>\n",
       "    <tr style=\"text-align: right;\">\n",
       "      <th>genres</th>\n",
       "      <th>userId</th>\n",
       "      <th>Action</th>\n",
       "      <th>Adventure</th>\n",
       "      <th>Animation</th>\n",
       "      <th>Children</th>\n",
       "      <th>Comedy</th>\n",
       "      <th>Crime</th>\n",
       "      <th>Documentary</th>\n",
       "      <th>Drama</th>\n",
       "      <th>Fantasy</th>\n",
       "      <th>Horror</th>\n",
       "      <th>Mystery</th>\n",
       "      <th>Romance</th>\n",
       "      <th>Sci-Fi</th>\n",
       "      <th>Thriller</th>\n",
       "    </tr>\n",
       "  </thead>\n",
       "  <tbody>\n",
       "    <tr>\n",
       "      <th>0</th>\n",
       "      <td>2</td>\n",
       "      <td>3.9</td>\n",
       "      <td>5.0</td>\n",
       "      <td>0.0</td>\n",
       "      <td>0.0</td>\n",
       "      <td>4.0</td>\n",
       "      <td>3.8</td>\n",
       "      <td>4.3</td>\n",
       "      <td>3.8</td>\n",
       "      <td>0.0</td>\n",
       "      <td>3.0</td>\n",
       "      <td>4.0</td>\n",
       "      <td>0.0</td>\n",
       "      <td>4.2</td>\n",
       "      <td>3.7</td>\n",
       "    </tr>\n",
       "    <tr>\n",
       "      <th>1</th>\n",
       "      <td>3</td>\n",
       "      <td>0.5</td>\n",
       "      <td>0.5</td>\n",
       "      <td>0.0</td>\n",
       "      <td>0.5</td>\n",
       "      <td>0.5</td>\n",
       "      <td>0.0</td>\n",
       "      <td>0.0</td>\n",
       "      <td>0.5</td>\n",
       "      <td>0.0</td>\n",
       "      <td>0.0</td>\n",
       "      <td>0.0</td>\n",
       "      <td>0.0</td>\n",
       "      <td>0.5</td>\n",
       "      <td>0.5</td>\n",
       "    </tr>\n",
       "  </tbody>\n",
       "</table>\n",
       "</div>"
      ],
      "text/plain": [
       "genres  userId  Action  Adventure  Animation  Children  Comedy  Crime  \\\n",
       "0            2     3.9        5.0        0.0       0.0     4.0    3.8   \n",
       "1            3     0.5        0.5        0.0       0.5     0.5    0.0   \n",
       "\n",
       "genres  Documentary  Drama  Fantasy  Horror  Mystery  Romance  Sci-Fi  \\\n",
       "0               4.3    3.8      0.0     3.0      4.0      0.0     4.2   \n",
       "1               0.0    0.5      0.0     0.0      0.0      0.0     0.5   \n",
       "\n",
       "genres  Thriller  \n",
       "0            3.7  \n",
       "1            0.5  "
      ]
     },
     "execution_count": 29,
     "metadata": {},
     "output_type": "execute_result"
    }
   ],
   "source": [
    "movies_exploded = movies.explode('genres')[['movieId', 'genres']]\n",
    "ratings_with_genres = filtered_ratings.merge(movies_exploded, on='movieId', how='left')\n",
    "user_genre_avg = ratings_with_genres.groupby(['userId', 'genres'])['rating'].mean().unstack(fill_value=0).reset_index()\n",
    "user_genre_avg.head(2)"
   ]
  },
  {
   "cell_type": "markdown",
   "id": "16d1d15d-3314-4f47-bab8-7ef8dc69761d",
   "metadata": {},
   "source": [
    "#### Preparing Training Set"
   ]
  },
  {
   "cell_type": "code",
   "execution_count": 30,
   "id": "fb35e284-afa6-426a-adde-73c99fb08802",
   "metadata": {},
   "outputs": [
    {
     "data": {
      "text/html": [
       "<div>\n",
       "<style scoped>\n",
       "    .dataframe tbody tr th:only-of-type {\n",
       "        vertical-align: middle;\n",
       "    }\n",
       "\n",
       "    .dataframe tbody tr th {\n",
       "        vertical-align: top;\n",
       "    }\n",
       "\n",
       "    .dataframe thead th {\n",
       "        text-align: right;\n",
       "    }\n",
       "</style>\n",
       "<table border=\"1\" class=\"dataframe\">\n",
       "  <thead>\n",
       "    <tr style=\"text-align: right;\">\n",
       "      <th></th>\n",
       "      <th>userId</th>\n",
       "      <th>movieId</th>\n",
       "      <th>rating</th>\n",
       "      <th>timestamp</th>\n",
       "      <th>Action_x</th>\n",
       "      <th>Adventure_x</th>\n",
       "      <th>Animation_x</th>\n",
       "      <th>Children_x</th>\n",
       "      <th>Comedy_x</th>\n",
       "      <th>Crime_x</th>\n",
       "      <th>...</th>\n",
       "      <th>Crime_y</th>\n",
       "      <th>Documentary_y</th>\n",
       "      <th>Drama_y</th>\n",
       "      <th>Fantasy_y</th>\n",
       "      <th>Horror_y</th>\n",
       "      <th>Mystery_y</th>\n",
       "      <th>Romance_y</th>\n",
       "      <th>Sci-Fi_y</th>\n",
       "      <th>Thriller_y</th>\n",
       "      <th>avg_rating</th>\n",
       "    </tr>\n",
       "  </thead>\n",
       "  <tbody>\n",
       "    <tr>\n",
       "      <th>0</th>\n",
       "      <td>2</td>\n",
       "      <td>6874</td>\n",
       "      <td>4.0</td>\n",
       "      <td>1445714952</td>\n",
       "      <td>3.9</td>\n",
       "      <td>5.0</td>\n",
       "      <td>0.0</td>\n",
       "      <td>0.0</td>\n",
       "      <td>4.0</td>\n",
       "      <td>3.8</td>\n",
       "      <td>...</td>\n",
       "      <td>1</td>\n",
       "      <td>0</td>\n",
       "      <td>0</td>\n",
       "      <td>0</td>\n",
       "      <td>0</td>\n",
       "      <td>0</td>\n",
       "      <td>0</td>\n",
       "      <td>0</td>\n",
       "      <td>1</td>\n",
       "      <td>4.0</td>\n",
       "    </tr>\n",
       "    <tr>\n",
       "      <th>1</th>\n",
       "      <td>2</td>\n",
       "      <td>8798</td>\n",
       "      <td>3.5</td>\n",
       "      <td>1445714960</td>\n",
       "      <td>3.9</td>\n",
       "      <td>5.0</td>\n",
       "      <td>0.0</td>\n",
       "      <td>0.0</td>\n",
       "      <td>4.0</td>\n",
       "      <td>3.8</td>\n",
       "      <td>...</td>\n",
       "      <td>1</td>\n",
       "      <td>0</td>\n",
       "      <td>1</td>\n",
       "      <td>0</td>\n",
       "      <td>0</td>\n",
       "      <td>0</td>\n",
       "      <td>0</td>\n",
       "      <td>0</td>\n",
       "      <td>1</td>\n",
       "      <td>3.8</td>\n",
       "    </tr>\n",
       "  </tbody>\n",
       "</table>\n",
       "<p>2 rows × 36 columns</p>\n",
       "</div>"
      ],
      "text/plain": [
       "   userId  movieId  rating   timestamp  Action_x  Adventure_x  Animation_x  \\\n",
       "0       2     6874     4.0  1445714952       3.9          5.0          0.0   \n",
       "1       2     8798     3.5  1445714960       3.9          5.0          0.0   \n",
       "\n",
       "   Children_x  Comedy_x  Crime_x  ...  Crime_y  Documentary_y  Drama_y  \\\n",
       "0         0.0       4.0      3.8  ...        1              0        0   \n",
       "1         0.0       4.0      3.8  ...        1              0        1   \n",
       "\n",
       "   Fantasy_y  Horror_y  Mystery_y  Romance_y  Sci-Fi_y Thriller_y avg_rating  \n",
       "0          0         0          0          0         0          1        4.0  \n",
       "1          0         0          0          0         0          1        3.8  \n",
       "\n",
       "[2 rows x 36 columns]"
      ]
     },
     "execution_count": 30,
     "metadata": {},
     "output_type": "execute_result"
    }
   ],
   "source": [
    "training_set = filtered_ratings.merge(user_genre_avg, on='userId', how='left')\n",
    "training_set = training_set.merge(movies, on='movieId', how='left')\n",
    "training_set.head(2)"
   ]
  },
  {
   "cell_type": "code",
   "execution_count": 32,
   "id": "4af00e55-94ec-43d4-99d0-8d477b46fc46",
   "metadata": {},
   "outputs": [],
   "source": [
    "num_repeats = 2  # Increase the dataset 5-fold\n",
    "training_set = pd.concat([training_set] * num_repeats, ignore_index=True)"
   ]
  },
  {
   "cell_type": "markdown",
   "id": "a33aea15-6be0-4589-8439-77d6ee24ecb4",
   "metadata": {},
   "source": [
    "#### Extracting the user_train array , movie_train array and the output label y from the training set"
   ]
  },
  {
   "cell_type": "code",
   "execution_count": 33,
   "id": "3599eec8-6890-4f89-a190-3c07a18249ff",
   "metadata": {},
   "outputs": [
    {
     "name": "stdout",
     "output_type": "stream",
     "text": [
      "User training set shape: (57618, 14)\n",
      "Movie training set shape: (57618, 16)\n",
      "Output y shape: (57618,)\n"
     ]
    }
   ],
   "source": [
    "# Extract the output label y\n",
    "y = training_set['rating'].values\n",
    "\n",
    "# Extract user features\n",
    "user_feature_cols =[col for col in training_set.columns if col.endswith('_x')]\n",
    "user_train = training_set[user_feature_cols].to_numpy()\n",
    "\n",
    "# Extract movie features\n",
    "movie_feature_cols =['year']+ [col for col in training_set.columns if col.endswith('_y')]+['avg_rating']\n",
    "movie_train = training_set[movie_feature_cols].to_numpy()\n",
    "\n",
    "print(\"User training set shape:\", user_train.shape)\n",
    "print(\"Movie training set shape:\", movie_train.shape)\n",
    "print(\"Output y shape:\", y.shape)"
   ]
  },
  {
   "cell_type": "code",
   "execution_count": 35,
   "id": "aa992922-fd58-4ed5-b5cb-6bc4ea32a441",
   "metadata": {},
   "outputs": [
    {
     "data": {
      "text/plain": [
       "array([[2.00300000e+03, 1.00000000e+00, 0.00000000e+00, 0.00000000e+00,\n",
       "        0.00000000e+00, 0.00000000e+00, 1.00000000e+00, 0.00000000e+00,\n",
       "        0.00000000e+00, 0.00000000e+00, 0.00000000e+00, 0.00000000e+00,\n",
       "        0.00000000e+00, 0.00000000e+00, 1.00000000e+00, 3.96183206e+00]])"
      ]
     },
     "execution_count": 35,
     "metadata": {},
     "output_type": "execute_result"
    }
   ],
   "source": [
    "movie_train[:1]"
   ]
  },
  {
   "cell_type": "code",
   "execution_count": 36,
   "id": "0534b6d5-24d6-4e4c-af1a-9ab203348099",
   "metadata": {},
   "outputs": [
    {
     "data": {
      "text/plain": [
       "array([[3.9       , 5.        , 0.        , 0.        , 4.        ,\n",
       "        3.83333333, 4.33333333, 3.8       , 0.        , 3.        ,\n",
       "        4.        , 0.        , 4.25      , 3.66666667]])"
      ]
     },
     "execution_count": 36,
     "metadata": {},
     "output_type": "execute_result"
    }
   ],
   "source": [
    "user_train[:1]"
   ]
  },
  {
   "cell_type": "markdown",
   "id": "3bdc4bc4-1d08-45b9-90ab-8ec6863a5124",
   "metadata": {},
   "source": [
    "#### Normalising the training sets"
   ]
  },
  {
   "cell_type": "code",
   "execution_count": 37,
   "id": "2caa1736-099b-4621-94d4-bbe49fb29b77",
   "metadata": {},
   "outputs": [],
   "source": [
    "# normalising the trainig set\n",
    "scaler_movie=StandardScaler()\n",
    "scaler_movie.fit(movie_train)\n",
    "movie_train_scaled=scaler_movie.transform(movie_train)\n",
    "scaler_user=StandardScaler()\n",
    "scaler_user.fit(user_train)\n",
    "user_train_scaled=scaler_user.transform(user_train)\n",
    "scaler_target=MinMaxScaler((-1,1))\n",
    "scaler_target.fit(y.reshape(-1,1))\n",
    "y_scaled=scaler_target.transform(y.reshape(-1,1))"
   ]
  },
  {
   "cell_type": "code",
   "execution_count": 41,
   "id": "0d5af639-c4c6-478f-899b-4cee2c8230cb",
   "metadata": {},
   "outputs": [
    {
     "data": {
      "text/plain": [
       "array([[-0.75572365,  1.52320607, -0.58043655, -0.31781904, -0.30344247,\n",
       "        -0.82790506,  2.16878377, -0.16856862, -0.84891659, -0.39978657,\n",
       "        -0.28126502, -0.31416479, -0.47552455, -0.45047889,  1.57941175,\n",
       "         0.87621312]])"
      ]
     },
     "execution_count": 41,
     "metadata": {},
     "output_type": "execute_result"
    }
   ],
   "source": [
    "movie_train_scaled[:1]"
   ]
  },
  {
   "cell_type": "code",
   "execution_count": 42,
   "id": "3f22bd30-d327-4230-9145-b7ca7e9598de",
   "metadata": {},
   "outputs": [
    {
     "data": {
      "text/plain": [
       "array([[ 0.91375432,  2.62862291, -3.6814779 , -3.39760293,  1.02917048,\n",
       "         0.51368747,  0.96262562,  0.44195318, -4.73935666,  0.15922969,\n",
       "         0.70270596, -4.93200316,  1.2447853 ,  0.44637493]])"
      ]
     },
     "execution_count": 42,
     "metadata": {},
     "output_type": "execute_result"
    }
   ],
   "source": [
    "user_train_scaled[:1]"
   ]
  },
  {
   "cell_type": "code",
   "execution_count": null,
   "id": "70959ebc-544b-4767-bacc-ed49a6a5d568",
   "metadata": {},
   "outputs": [],
   "source": []
  }
 ],
 "metadata": {
  "kernelspec": {
   "display_name": "Python 3 (ipykernel)",
   "language": "python",
   "name": "python3"
  },
  "language_info": {
   "codemirror_mode": {
    "name": "ipython",
    "version": 3
   },
   "file_extension": ".py",
   "mimetype": "text/x-python",
   "name": "python",
   "nbconvert_exporter": "python",
   "pygments_lexer": "ipython3",
   "version": "3.11.4"
  }
 },
 "nbformat": 4,
 "nbformat_minor": 5
}
